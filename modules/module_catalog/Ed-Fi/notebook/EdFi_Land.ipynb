{
  "cells": [
    {
      "cell_type": "code",
      "execution_count": null,
      "metadata": {},
      "outputs": [],
      "source": [
        "%run /edfi_fetch_urls"
      ]
    },
    {
      "cell_type": "code",
      "execution_count": null,
      "metadata": {
        "jupyter": {
          "outputs_hidden": false,
          "source_hidden": false
        },
        "nteract": {
          "transient": {
            "deleting": false
          }
        }
      },
      "outputs": [],
      "source": [
        "# workspace = \"dev\"\n",
        "# apiVersion = \"5.2\"\n",
        "# moduleName = \"Ed-Fi10\"\n",
        "# schoolYear = None\n",
        "# districtId = None"
      ]
    },
    {
      "cell_type": "code",
      "execution_count": null,
      "metadata": {
        "jupyter": {
          "outputs_hidden": false,
          "source_hidden": false
        },
        "nteract": {
          "transient": {
            "deleting": false
          }
        }
      },
      "outputs": [],
      "source": [
        "districtPath = districtId if districtId != None else \"All\"\n",
        "schoolYearPath = schoolYear if schoolYear != None else \"All\"\n",
        "\n",
        "parameterized = False"
      ]
    },
    {
      "cell_type": "code",
      "execution_count": 2,
      "metadata": {
        "jupyter": {
          "outputs_hidden": false,
          "source_hidden": false
        },
        "nteract": {
          "transient": {
            "deleting": false
          }
        }
      },
      "outputs": [],
      "source": [
        "%run /edfi_py"
      ]
    },
    {
      "cell_type": "code",
      "execution_count": 4,
      "metadata": {
        "jupyter": {
          "outputs_hidden": false,
          "source_hidden": false
        },
        "nteract": {
          "transient": {
            "deleting": false
          }
        }
      },
      "outputs": [],
      "source": [
        "if parameterized == True:\n",
        "    edfiEntitiesPath = f'stage1/Transactional/{moduleName}/{apiVersion}/DistrictId={districtPath}/SchoolYear={schoolYearPath}/etl_entities/current_run_data'\n",
        "    \n",
        "    edfiEntities, _ = edfi.listSpecifiedEntities(edfiEntitiesPath)\n",
        "    entitiesToFetch = edfiEntities\n",
        "else:\n",
        "    entitiesToFetch = 'All'"
      ]
    },
    {
      "cell_type": "code",
      "execution_count": 5,
      "metadata": {
        "jupyter": {
          "outputs_hidden": false,
          "source_hidden": false
        },
        "nteract": {
          "transient": {
            "deleting": false
          }
        }
      },
      "outputs": [],
      "source": [
        "exception = None\n",
        "try:\n",
        "    if len(entitiesToFetch) != 0:\n",
        "        edfiClient = EdFiClient(workspace, \n",
        "                                kvName, \n",
        "                                moduleName, \n",
        "                                authUrl, \n",
        "                                dataManagementUrl, \n",
        "                                changeQueriesUrl, \n",
        "                                dependenciesUrl, \n",
        "                                apiVersion, \n",
        "                                batchLimit, \n",
        "                                minChangeVer, \n",
        "                                maxChangeVer, \n",
        "                                schoolYear, \n",
        "                                districtId)\n",
        "        edfiClient.landEntities(entitiesToFetch)\n",
        "    else:\n",
        "        logger.info(\"No entities to be fetched has been specified\")\n",
        "except Exception as e:\n",
        "    exception = e"
      ]
    },
    {
      "cell_type": "code",
      "execution_count": 110,
      "metadata": {
        "jupyter": {
          "outputs_hidden": false,
          "source_hidden": false
        },
        "nteract": {
          "transient": {
            "deleting": false
          }
        }
      },
      "outputs": [],
      "source": [
        "if exception != None:\n",
        "    raise exception"
      ]
    }
  ],
  "metadata": {
    "kernelspec": {
      "display_name": "Synapse PySpark",
      "name": "synapse_pyspark"
    },
    "language_info": {
      "name": "python"
    },
    "save_output": true
  },
  "nbformat": 4,
  "nbformat_minor": 2
}
