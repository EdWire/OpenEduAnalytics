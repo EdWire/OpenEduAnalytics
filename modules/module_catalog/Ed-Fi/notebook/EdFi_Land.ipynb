{
  "nbformat": 4,
  "nbformat_minor": 2,
  "cells": [
    {
      "cell_type": "code",
      "execution_count": null,
      "outputs": [],
      "metadata": {},
      "source": [
        "%run /edfi_fetch_urls"
      ]
    },
    {
      "cell_type": "code",
      "execution_count": null,
      "outputs": [],
      "metadata": {
        "jupyter": {
          "outputs_hidden": false,
          "source_hidden": false
        },
        "nteract": {
          "transient": {
            "deleting": false
          }
        }
      },
      "source": [
        "# workspace = \"dev\"\n",
        "# apiVersion = \"5.2\"\n",
        "# moduleName = \"Ed-Fi10\"\n",
        "# schoolYear = None\n",
        "# districtId = None"
      ]
    },
    {
      "cell_type": "code",
      "execution_count": null,
      "outputs": [],
      "metadata": {
        "jupyter": {
          "outputs_hidden": false,
          "source_hidden": false
        },
        "nteract": {
          "transient": {
            "deleting": false
          }
        }
      },
      "source": [
        "districtPath = districtId if districtId != None else \"All\"\n",
        "schoolYearPath = schoolYear if schoolYear != None else \"All\"\n",
        "\n",
        "parameterized = False"
      ]
    },
    {
      "cell_type": "code",
      "execution_count": null,
      "outputs": [],
      "metadata": {
        "jupyter": {
          "outputs_hidden": false,
          "source_hidden": false
        },
        "nteract": {
          "transient": {
            "deleting": false
          }
        }
      },
      "source": [
        "%run /edfi_py"
      ]
    },
    {
      "cell_type": "code",
      "execution_count": null,
      "outputs": [],
      "metadata": {
        "jupyter": {
          "outputs_hidden": false,
          "source_hidden": false
        },
        "nteract": {
          "transient": {
            "deleting": false
          }
        }
      },
      "source": [
        "if parameterized == True:\n",
        "    edfiEntitiesPath = f'stage1/Transactional/{moduleName}/{apiVersion}/DistrictId={districtPath}/SchoolYear={schoolYearPath}/etl_entities/current_run_data'\n",
        "    \n",
        "    edfiEntities, _ = edfi.listSpecifiedEntities(edfiEntitiesPath)\n",
        "    entitiesToFetch = edfiEntities\n",
        "else:\n",
        "    entitiesToFetch = 'All'"
      ]
    },
    {
      "cell_type": "code",
      "execution_count": null,
      "outputs": [],
      "metadata": {
        "jupyter": {
          "outputs_hidden": false,
          "source_hidden": false
        },
        "nteract": {
          "transient": {
            "deleting": false
          }
        }
      },
      "source": [
        "exception = None\n",
        "try:\n",
        "    if len(entitiesToFetch) != 0:\n",
        "        edfiClient = EdFiClient(workspace, \n",
        "                                kvName, \n",
        "                                moduleName, \n",
        "                                authUrl, \n",
        "                                dataManagementUrl, \n",
        "                                changeQueriesUrl, \n",
        "                                dependenciesUrl, \n",
        "                                apiVersion, \n",
        "                                batchLimit, \n",
        "                                minChangeVer, \n",
        "                                maxChangeVer, \n",
        "                                schoolYear, \n",
        "                                districtId)\n",
        "        edfiClient.landEntities(entitiesToFetch)\n",
        "    else:\n",
        "        logger.info(\"No entities to be fetched has been specified\")\n",
        "except Exception as e:\n",
        "    exception = e"
      ]
    },
    {
      "cell_type": "code",
      "execution_count": null,
      "outputs": [],
      "metadata": {
        "jupyter": {
          "outputs_hidden": false,
          "source_hidden": false
        },
        "nteract": {
          "transient": {
            "deleting": false
          }
        }
      },
      "source": [
        "if exception != None:\n",
        "    raise exception"
      ]
    }
  ],
  "metadata": {
    "description": null,
    "save_output": true,
    "kernelspec": {
      "name": "synapse_pyspark",
      "display_name": "Synapse PySpark"
    },
    "language_info": {
      "name": "python"
    },
    "synapse_widget": {
      "version": "0.1",
      "state": {}
    }
  }
}