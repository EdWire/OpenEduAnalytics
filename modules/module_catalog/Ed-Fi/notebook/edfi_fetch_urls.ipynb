{
 "cells": [
  {
   "cell_type": "code",
   "execution_count": 36,
   "id": "a4a9d141-7a60-47a6-bb9c-6812406ae201",
   "metadata": {},
   "outputs": [],
   "source": [
    "instance_id = InstanceId\n",
    "school_year = SchoolYear\n",
    "api_url = ApiUrl"
   ]
  },
  {
   "cell_type": "code",
   "execution_count": 37,
   "id": "3fb30bd9-9b15-4247-8c6a-f2a082798e1a",
   "metadata": {},
   "outputs": [],
   "source": [
    "import requests\n",
    "\n",
    "class EdFiApiManager:\n",
    "    def __init__(self, api_url, instance_id, school_year):\n",
    "        self.api_url = api_url\n",
    "        self.instance_id = instance_id\n",
    "        self.school_year = school_year\n",
    "        self.api_version = api_url.split('/')[-3]\n",
    "        self.base_response = self.fetch_json_from_api(api_url)\n",
    "        self.urls = self.base_response['urls']\n",
    "\n",
    "    def fetch_json_from_api(self, api_url):\n",
    "        try:\n",
    "            response = requests.get(api_url)\n",
    "            response.raise_for_status()\n",
    "            return response.json()\n",
    "        except requests.exceptions.RequestException as e:\n",
    "            print(f\"An error occurred: {e}\")\n",
    "            return None\n",
    "\n",
    "    def replace_url_component(self, url, index, new_component, num_parts):\n",
    "        url_parts = url.split('/')\n",
    "        if len(url_parts) == num_parts:\n",
    "            url_parts[index] = new_component\n",
    "            return \"/\".join(url_parts)\n",
    "        else:\n",
    "            return url\n",
    "\n",
    "    def update_urls(self):\n",
    "        for key, url in self.urls.items():\n",
    "            url = url.replace('{instance}', self.instance_id)\n",
    "            self.urls[key] = url\n",
    "\n",
    "        self.dependencies_url = self.replace_url_component(self.urls['dependencies'], -2, self.school_year, 12)\n",
    "        self.openapi_metadata_url = self.replace_url_component(self.urls['openApiMetadata'], -1, self.school_year, 9)\n",
    "        self.data_management_url = self.replace_url_component(self.urls['dataManagementApi'], -1, self.school_year, 10)\n",
    "        self.auth_url = self.urls['oauth']\n",
    "    \n",
    "    def set_other_metadata(self):\n",
    "        self.other_metadata = self.fetch_json_from_api(self.openapi_metadata_url)\n",
    "    \n",
    "    def get_referenced_url(self,url_type):\n",
    "        other_metadata = self.other_metadata\n",
    "        for item in other_metadata:\n",
    "            if item['name'] == url_type:\n",
    "                return item['endpointUri']\n",
    "        return None"
   ]
  },
  {
   "cell_type": "code",
   "execution_count": 38,
   "id": "2299e2c3-ea8c-4802-806d-c785e14c6a82",
   "metadata": {},
   "outputs": [],
   "source": [
    "edfi_api_manager = EdFiApiManager(api_url, instance_id, school_year)\n",
    "edfi_api_manager.update_urls()\n",
    "edfi_api_manager.set_other_metadata()"
   ]
  },
  {
   "cell_type": "code",
   "execution_count": 40,
   "id": "e199f25b-d7c6-4ba6-a528-a8c4d6d5f9cd",
   "metadata": {},
   "outputs": [],
   "source": [
    "dependenciesUrl = edfi_api_manager.dependencies_url\n",
    "openApiMetadataUrl = edfi_api_manager.openapi_metadata_url\n",
    "dataManagementUrl = edfi_api_manager.data_management_url\n",
    "authUrl = edfi_api_manager.auth_url\n",
    "\n",
    "changeQueriesUrl = edfi_api_manager.get_referenced_url('Change-Queries')\n",
    "swaggerUrl = edfi_api_manager.get_referenced_url('Descriptors')"
   ]
  }
 ],
 "metadata": {
  "kernelspec": {
   "display_name": "Python 3 (ipykernel)",
   "language": "python",
   "name": "python3"
  },
  "language_info": {
   "codemirror_mode": {
    "name": "ipython",
    "version": 3
   },
   "file_extension": ".py",
   "mimetype": "text/x-python",
   "name": "python",
   "nbconvert_exporter": "python",
   "pygments_lexer": "ipython3",
   "version": "3.11.4"
  }
 },
 "nbformat": 4,
 "nbformat_minor": 5
}
