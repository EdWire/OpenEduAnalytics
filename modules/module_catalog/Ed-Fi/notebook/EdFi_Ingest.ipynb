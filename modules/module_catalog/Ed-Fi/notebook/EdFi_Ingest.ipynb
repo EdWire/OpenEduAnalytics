{
  "cells": [
    {
      "cell_type": "code",
      "execution_count": null,
      "metadata": {},
      "outputs": [],
      "source": [
        "%run /edfi_fetch_urls"
      ]
    },
    {
      "cell_type": "code",
      "execution_count": 1,
      "metadata": {},
      "outputs": [],
      "source": [
        "# workspace = \"dev\"\n",
        "# apiVersion = \"5.2\"\n",
        "# moduleName = \"Ed-Fi10\"\n",
        "# schoolYear = None\n",
        "# districtId = None"
      ]
    },
    {
      "cell_type": "code",
      "execution_count": 63,
      "metadata": {
        "jupyter": {
          "outputs_hidden": false,
          "source_hidden": false
        },
        "nteract": {
          "transient": {
            "deleting": false
          }
        }
      },
      "outputs": [],
      "source": [
        "%run /edfi_py"
      ]
    },
    {
      "cell_type": "code",
      "execution_count": 46,
      "metadata": {
        "jupyter": {
          "outputs_hidden": false,
          "source_hidden": false
        },
        "nteract": {
          "transient": {
            "deleting": false
          }
        }
      },
      "outputs": [],
      "source": [
        "districtPath = districtId if districtId != None else \"All\"\n",
        "schoolYearPath = schoolYear if schoolYear != None else \"All\"\n",
        "\n",
        "parameterized = False"
      ]
    },
    {
      "cell_type": "code",
      "execution_count": 47,
      "metadata": {
        "jupyter": {
          "outputs_hidden": false,
          "source_hidden": false
        },
        "nteract": {
          "transient": {
            "deleting": false
          }
        }
      },
      "outputs": [],
      "source": [
        "if parameterized == True:\n",
        "    edfiEntitiesPath = f'stage1/Transactional/{moduleName}/{apiVersion}/DistrictId={districtPath}/SchoolYear={schoolYearPath}/etl_entities/current_run_data'\n",
        "\n",
        "    _, edfiEntities = edfi.listSpecifiedEntities(edfiEntitiesPath)\n",
        "else:\n",
        "    edfiEntities = \"All\"  \n",
        "tpmEntities = edfiEntities"
      ]
    },
    {
      "cell_type": "code",
      "execution_count": 89,
      "metadata": {
        "jupyter": {
          "outputs_hidden": false,
          "source_hidden": false
        },
        "nteract": {
          "transient": {
            "deleting": false
          }
        }
      },
      "outputs": [],
      "source": [
        "def ingest_edfi_dataset(tables_source, \n",
        "                        items = 'All'):\n",
        "    full_source_path = f\"stage1/Transactional/{tables_source}\"\n",
        "    if items == 'All':\n",
        "        items = oea.get_folders(full_source_path) \n",
        "   \n",
        "    options = {'format': 'json', 'multiline': False}\n",
        "    for item in items: \n",
        "        table_path = full_source_path +'/'+ item\n",
        "        try:\n",
        "            entity_path = f\"{tables_source}/{item}\"\n",
        "            if item == 'metadata.csv':\n",
        "                logger.info('ignore metadata processing, since this is not a table to be ingested')\n",
        "            else:\n",
        "                oea.path_exists(oea.to_url(entity_path)):\n",
        "                    oea.ingest(entity_path, 'id', options)\n",
        "        except AnalysisException as e:\n",
        "            # This means the table may have not been properly refined due to errors with the primary key not aligning with columns expected in the lookup table.\n",
        "            pass"
      ]
    },
    {
      "cell_type": "code",
      "execution_count": 90,
      "metadata": {
        "jupyter": {
          "outputs_hidden": false,
          "source_hidden": false
        },
        "nteract": {
          "transient": {
            "deleting": false
          }
        }
      },
      "outputs": [],
      "source": [
        "ingest_edfi_dataset(f'{moduleName}/{apiVersion}/DistrictId={districtPath}/SchoolYear={schoolYearPath}/ed-fi',\n",
        "                    edfiEntities)\n",
        "ingest_edfi_dataset(f'{moduleName}/{apiVersion}/DistrictId={districtPath}/SchoolYear={schoolYearPath}/tpdm',\n",
        "                    tpdmEntities)"
      ]
    }
  ],
  "metadata": {
    "kernelspec": {
      "display_name": "Synapse PySpark",
      "name": "synapse_pyspark"
    },
    "language_info": {
      "name": "python"
    },
    "save_output": true
  },
  "nbformat": 4,
  "nbformat_minor": 2
}
